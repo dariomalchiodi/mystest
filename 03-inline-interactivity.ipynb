{
 "cells": [
  {
   "cell_type": "markdown",
   "id": "613eaf50-e4f0-4328-b0be-c246fb216577",
   "metadata": {},
   "source": [
    "---\n",
    "title: Inline Interactivity in Jupyter using MyST\n",
    "subtitle: Using inline widgets in JupyterLab markdown cells\n",
    "license: CC-BY-4.0\n",
    "author:\n",
    "  - name: Rowan Cockett\n",
    "    affiliations: Executable Books; Curvenote\n",
    "    orcid: 0000-0002-7859-8394\n",
    "    email: rowan@curvenote.com\n",
    "  - name: Angus Hollands\n",
    "    affiliations: Executable Books\n",
    "  - name: Steve Purves\n",
    "    affiliations: Executable Books; Curvenote\n",
    "date: 2023/02/20\n",
    "---\n",
    "\n",
    "The [JupyterLab MyST extension](https://github.com/executablebooks/jupyterlab-myst) allows you to have MyST renderer in your markdown cells that includes interactivity and inline-evaluation."
   ]
  },
  {
   "cell_type": "markdown",
   "id": "d3c1dba2-889d-4817-8d48-83d45c03a337",
   "metadata": {
    "user_expressions": [
     {
      "expression": "3 + 1",
      "result": {
       "data": {
        "text/plain": "4"
       },
       "metadata": {},
       "status": "ok"
      }
     }
    ]
   },
   "source": [
    "This is done through the `` {eval}`3 + 1` `` role, which results in {eval}`3 + 1`. The extension can also access variables in the kernel."
   ]
  },
  {
   "cell_type": "code",
   "execution_count": null,
   "id": "90dffa46-b084-4b24-a650-e5f5a9aa526e",
   "metadata": {
    "init_cell": true,
    "scene__Default Scene": true,
    "tags": [
     "ActiveScene"
    ]
   },
   "outputs": [],
   "source": [
    "import micropip\n",
    "await micropip.install(\"ipywidgets\")\n",
    "\n",
    "from ipywidgets import interact\n",
    "%matplotlib inline\n",
    "import matplotlib.pyplot as plt\n",
    "import networkx as nx\n",
    "\n",
    "def random_lobster(n, m, k, p):\n",
    "    return nx.random_lobster(n, p, p / m)\n",
    "\n",
    "def powerlaw_cluster(n, m, k, p):\n",
    "    return nx.powerlaw_cluster_graph(n, m, p)\n",
    "\n",
    "def erdos_renyi(n, m, k, p):\n",
    "    return nx.erdos_renyi_graph(n, p)\n",
    "\n",
    "def newman_watts_strogatz(n, m, k, p):\n",
    "    return nx.newman_watts_strogatz_graph(n, k, p)\n",
    "\n",
    "def plot_random_graph(n, m, k, p, generator):\n",
    "    g = generator(n, m, k, p)\n",
    "    nx.draw(g)\n",
    "    plt.show()\n",
    "\n",
    "interact(plot_random_graph, n=(2,30), m=(1,10), k=(1,10), p=(0.0, 0.99, 0.001),\n",
    "         generator=[\n",
    "             ('lobster', random_lobster),\n",
    "             ('power law', powerlaw_cluster),\n",
    "             ('Newman-Watts-Strogatz', newman_watts_strogatz),\n",
    "             (u'Erdős-Rényi', erdos_renyi),\n",
    "         ]);\n",
    "\n",
    "import numpy as np\n",
    "array = np.arange(5)"
   ]
  },
  {
   "cell_type": "markdown",
   "id": "e8af4aa1-9d91-494e-9a76-4d57a611d9e0",
   "metadata": {
    "user_expressions": [
     {
      "expression": "array",
      "result": {
       "data": {
        "text/plain": "array([0, 1, 2, 3, 4])"
       },
       "metadata": {},
       "status": "ok"
      }
     },
     {
      "expression": "array.sum()",
      "result": {
       "data": {
        "text/plain": "np.int64(10)"
       },
       "metadata": {},
       "status": "ok"
      }
     },
     {
      "expression": "max(array)",
      "result": {
       "data": {
        "text/plain": "np.int64(4)"
       },
       "metadata": {},
       "status": "ok"
      }
     }
    ]
   },
   "source": [
    ":::{exercise}\n",
    ":label: inline-arrays\n",
    "\n",
    "Let's consider the following array: {eval}`array`.\n",
    "\n",
    "SUM\n",
    ": We compute the total using `array.sum()`, which is {eval}`array.sum()`\n",
    "\n",
    "MAX\n",
    ": We compute the maximum value using `array.max()`, which is {eval}`max(array)`\n",
    "\n",
    ":::\n",
    "\n",
    "🛠 In [](#inline-arrays) replace each `???` with an `{eval}` role for the correct expression\n",
    "\n",
    ":::{solution} inline-arrays\n",
    ":class: dropdown\n",
    "This is done through using MyST syntax: `` {eval}`array.sum()` `` and `` {eval}`array.max()` ``, respectively.\n",
    ":::"
   ]
  },
  {
   "cell_type": "code",
   "execution_count": 1,
   "id": "5ffba1f7-e455-4dce-a645-38988d97b01b",
   "metadata": {},
   "outputs": [],
   "source": [
    "import ipywidgets as widgets\n",
    "\n",
    "cookiesSlider = widgets.IntSlider(min=0, max=30, step=1, value=10, description=\"Cookies: \")\n",
    "cookiesText = widgets.BoundedIntText(\n",
    "    value=10,\n",
    "    min=0,\n",
    "    max=30,\n",
    "    step=1,\n",
    ")\n",
    "widgetLink = widgets.jslink((cookiesSlider, 'value'), (cookiesText, 'value'))\n",
    "\n",
    "caloriesPerCookie = 50\n",
    "dailyCalories = 2100.\n",
    "\n",
    "calories = widgets.Label(value=f'{cookiesSlider.value * caloriesPerCookie}')\n",
    "def fc(n):\n",
    "    calories.value = f'{n[\"owner\"].value * caloriesPerCookie}'\n",
    "cookiesSlider.observe(fc)\n",
    "\n",
    "\n",
    "percent = widgets.Label(value=f'{cookiesSlider.value * caloriesPerCookie / dailyCalories:.1%}')\n",
    "def fp(n):\n",
    "    percent.value = f'{n[\"owner\"].value * caloriesPerCookie / dailyCalories:.1%}'\n",
    "cookiesSlider.observe(fp)"
   ]
  },
  {
   "cell_type": "markdown",
   "id": "b8ac6e3c-2982-4921-a882-6b4eeaffe936",
   "metadata": {
    "user_expressions": [
     {
      "expression": "cookiesText",
      "result": {
       "data": {
        "application/vnd.jupyter.widget-view+json": {
         "model_id": "2772976afda349959a0ff12050d8d08d",
         "version_major": 2,
         "version_minor": 0
        },
        "text/plain": "BoundedIntText(value=10, max=30)"
       },
       "metadata": {},
       "status": "ok"
      }
     },
     {
      "expression": "calories",
      "result": {
       "data": {
        "application/vnd.jupyter.widget-view+json": {
         "model_id": "a9be30147af04732b071e780ddf2233d",
         "version_major": 2,
         "version_minor": 0
        },
        "text/plain": "Label(value='500')"
       },
       "metadata": {},
       "status": "ok"
      }
     },
     {
      "expression": "percent",
      "result": {
       "data": {
        "application/vnd.jupyter.widget-view+json": {
         "model_id": "217e45c1837445e5adcc6ef00ff2f6e7",
         "version_major": 2,
         "version_minor": 0
        },
        "text/plain": "Label(value='23.8%')"
       },
       "metadata": {},
       "status": "ok"
      }
     },
     {
      "expression": "cookiesSlider",
      "result": {
       "data": {
        "application/vnd.jupyter.widget-view+json": {
         "model_id": "e7a0aafde65c4d438e3629b6501a8298",
         "version_major": 2,
         "version_minor": 0
        },
        "text/plain": "IntSlider(value=10, description='Cookies: ', max=30)"
       },
       "metadata": {},
       "status": "ok"
      }
     }
    ]
   },
   "source": [
    ":::{important} Calculate Consuming Cookie Calories 🍪 🧮\n",
    "When you eat {eval}`cookiesText` cookies, you consume {eval}`calories` calories. \\\n",
    "That's {eval}`percent` of your recommended daily calories.\n",
    ":::\n",
    "\n",
    "You can also edit this through a slider if you want: {eval}`cookiesSlider`\n",
    "\n",
    ":::{note} Improvements\n",
    ":class: dropdown\n",
    "There is a lot to improve both for formatting (e.g. format the numbering) and for the verbosity of the above code for linking and calculating the widgets.\n",
    "These are probably going to be a combination of a MyST library for working with simple inline widgets and showing numbers, as well as improvements and tweaks to the inline renderers for the mime bundles.\n",
    "\n",
    "But you can already do things! 🚀\n",
    ":::"
   ]
  },
  {
   "cell_type": "code",
   "execution_count": null,
   "id": "7a29588f-afb7-4e2b-99fb-132c6ab04372",
   "metadata": {},
   "outputs": [],
   "source": [
    "import numpy as np\n",
    "import matplotlib.pyplot as plt\n",
    "\n",
    "def plotStocks(line_color = 'b'):\n",
    "    # Step 1: Predict the stock market, with surprising accuracy:\n",
    "    data = np.cumsum(np.random.rand(1000)-0.5)\n",
    "    data = data - np.mean(data)\n",
    "\n",
    "    stocks = plt.figure(figsize=(10,2))\n",
    "    ax1 = stocks.add_subplot(111)\n",
    "    ax1.plot(data, line_color)\n",
    "    ax1.axhline(c='grey', alpha=0.5);\n",
    "    plt.axis('off')\n",
    "    plt.tight_layout();\n",
    "    plt.close();\n",
    "\n",
    "    annotated = plt.figure(figsize=(10,2))\n",
    "    ax1 = annotated.add_subplot(111)\n",
    "    plt.axvspan(450, 560, color='red', alpha=0.5)\n",
    "    plt.axvspan(680, 740, color='green', alpha=0.5)\n",
    "    ax1.plot(data, line_color)\n",
    "    ax1.axhline(c='grey', alpha=0.5);\n",
    "    plt.axis('off')\n",
    "    plt.tight_layout();\n",
    "    plt.close();\n",
    "    \n",
    "    return stocks, annotated"
   ]
  },
  {
   "cell_type": "code",
   "execution_count": null,
   "id": "8a1f028a-ba98-4815-9c39-b22a8f70d665",
   "metadata": {},
   "outputs": [],
   "source": [
    "stocks, annotated = plotStocks('r')"
   ]
  },
  {
   "cell_type": "markdown",
   "id": "60a959ef-e31b-4383-9865-982e574debd3",
   "metadata": {
    "user_expressions": [
     {
      "expression": "stocks",
      "result": {
       "data": {
        "image/png": "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",
        "text/plain": "<Figure size 1000x200 with 1 Axes>"
       },
       "metadata": {},
       "status": "ok"
      }
     },
     {
      "expression": "annotated",
      "result": {
       "data": {
        "image/png": "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",
        "text/plain": "<Figure size 1000x200 with 1 Axes>"
       },
       "metadata": {},
       "status": "ok"
      }
     }
    ]
   },
   "source": [
    "\n",
    "If we look at the following stock price for [Apple](https://en.wikipedia.org/wiki/Apple_Inc.) ({eval}`stocks`) we can see that in 2003, they started selling [computers](https://en.wikipedia.org/wiki/MacBook_Pro), in the red region and their stock went crazy once the investment paid off ({eval}`annotated`).[^note]\n",
    "\n",
    "[^note]: Both the graphs are fake, but pretty cool right!  "
   ]
  },
  {
   "cell_type": "code",
   "execution_count": null,
   "id": "612c2e45-8096-4fee-89d4-9732d56ec247",
   "metadata": {},
   "outputs": [],
   "source": [
    "from sympy import symbols, expand\n",
    "x, y = symbols('x y')\n",
    "expr = x + 2*(y**0.5)\n",
    "polynomial = x*expr"
   ]
  },
  {
   "cell_type": "markdown",
   "id": "319276f3-c4c6-4b9e-8131-27c9d8e7671d",
   "metadata": {
    "user_expressions": [
     {
      "expression": "polynomial",
      "result": {
       "data": {
        "text/latex": "$\\displaystyle x \\left(x + 2 y^{0.5}\\right)$",
        "text/plain": "x*(x + 2*y**0.5)"
       },
       "metadata": {},
       "status": "ok"
      }
     },
     {
      "expression": "expand(polynomial)",
      "result": {
       "data": {
        "text/latex": "$\\displaystyle x^{2} + 2 x y^{0.5}$",
        "text/plain": "x**2 + 2*x*y**0.5"
       },
       "metadata": {},
       "status": "ok"
      }
     }
    ]
   },
   "source": [
    "🛠 Try changing the `expr` above and then re-execute this cell to see the update!\n",
    "\n",
    "When we expand the polynomial {eval}`polynomial`, we get {eval}`expand(polynomial)`."
   ]
  },
  {
   "cell_type": "code",
   "execution_count": null,
   "id": "600e74dc-6c54-4cb4-91c3-0e5107fcf589",
   "metadata": {},
   "outputs": [],
   "source": [
    "from IPython.display import Image, HTML\n",
    "\n",
    "i = Image(url='https://cinemiam.com/wp-content/uploads/2013/04/amants-passagers-5-collectif-slider.jpg')"
   ]
  },
  {
   "cell_type": "markdown",
   "id": "edafa8a3-8dcd-4db3-a4cf-90c6aaf461bb",
   "metadata": {
    "user_expressions": [
     {
      "expression": "i",
      "result": {
       "data": {
        "text/html": "<img src=\"https://cinemiam.com/wp-content/uploads/2013/04/amants-passagers-5-collectif-slider.jpg\"/>",
        "text/plain": "<IPython.core.display.Image object>"
       },
       "metadata": {},
       "status": "ok"
      }
     }
    ]
   },
   "source": [
    "This should be an inline image of a sunset: {eval}`i`"
   ]
  },
  {
   "cell_type": "code",
   "execution_count": null,
   "id": "463cdcbe-066d-4187-bf4a-d09b4233666f",
   "metadata": {},
   "outputs": [],
   "source": [
    "text_hover = HTML('<span onmouseover=\"this.innerText=\\'💚\\'\" onmouseout=\"this.innerText=\\'🎉\\'\">❤️</span>')"
   ]
  },
  {
   "cell_type": "markdown",
   "id": "dd711f73-94eb-4da4-ba01-2ac822450a2f",
   "metadata": {
    "user_expressions": [
     {
      "expression": "text_hover",
      "result": {
       "data": {
        "text/html": "<span onmouseover=\"this.innerText='💚'\" onmouseout=\"this.innerText='🎉'\">❤️</span>",
        "text/plain": "<IPython.core.display.HTML object>"
       },
       "metadata": {},
       "status": "ok"
      }
     }
    ]
   },
   "source": [
    "Try hovering over this element[^trust]: {eval}`text_hover`\n",
    "\n",
    "[^trust]: You may need to set your notebook to trusted to do this!"
   ]
  },
  {
   "cell_type": "markdown",
   "id": "68eb18f0-2ab2-4bcb-8d7d-cf231f6dbf1d",
   "metadata": {},
   "source": [
    "This is a statically generated latex code:\n",
    "\n",
    "$$ \\int_{-\\infty}^{+\\infty}f_X(x) \\mathrm d x = 1$$"
   ]
  },
  {
   "cell_type": "code",
   "execution_count": 2,
   "id": "7643a73d-b3b5-4177-bb25-3c41c7e6c56e",
   "metadata": {
    "scene__Default Scene": true,
    "tags": [
     "ActiveScene"
    ]
   },
   "outputs": [
    {
     "data": {
      "application/vnd.jupyter.widget-view+json": {
       "model_id": "468a3dacaa9a41f19c9ca9320a2bc95e",
       "version_major": 2,
       "version_minor": 0
      },
      "text/plain": [
       "interactive(children=(IntSlider(value=16, description='n', max=30, min=2), IntSlider(value=5, description='m',…"
      ]
     },
     "metadata": {},
     "output_type": "display_data"
    }
   ],
   "source": []
  },
  {
   "cell_type": "code",
   "execution_count": null,
   "id": "f5a59d98-464a-4ff7-9a96-2786f84898c8",
   "metadata": {},
   "outputs": [],
   "source": []
  }
 ],
 "metadata": {
  "kernelspec": {
   "display_name": "Python 3 (ipykernel)",
   "language": "python",
   "name": "python3"
  },
  "language_info": {
   "codemirror_mode": {
    "name": "ipython",
    "version": 3
   },
   "file_extension": ".py",
   "mimetype": "text/x-python",
   "name": "python",
   "nbconvert_exporter": "python",
   "pygments_lexer": "ipython3",
   "version": "3.12.4"
  },
  "scenes_data": {
   "active_scene": "Default Scene",
   "init_scene": "Default Scene",
   "scenes": [
    "Default Scene"
   ]
  }
 },
 "nbformat": 4,
 "nbformat_minor": 5
}
