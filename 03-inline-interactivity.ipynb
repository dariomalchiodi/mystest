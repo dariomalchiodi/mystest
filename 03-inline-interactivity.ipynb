{
 "cells": [
  {
   "cell_type": "markdown",
   "id": "613eaf50-e4f0-4328-b0be-c246fb216577",
   "metadata": {},
   "source": [
    "---\n",
    "title: Inline Interactivity in Jupyter using MyST\n",
    "subtitle: Using inline widgets in JupyterLab markdown cells\n",
    "license: CC-BY-4.0\n",
    "author:\n",
    "  - name: Rowan Cockett\n",
    "    affiliations: Executable Books; Curvenote\n",
    "    orcid: 0000-0002-7859-8394\n",
    "    email: rowan@curvenote.com\n",
    "  - name: Angus Hollands\n",
    "    affiliations: Executable Books\n",
    "  - name: Steve Purves\n",
    "    affiliations: Executable Books; Curvenote\n",
    "date: 2023/02/20\n",
    "---\n",
    "\n",
    "The [JupyterLab MyST extension](https://github.com/executablebooks/jupyterlab-myst) allows you to have MyST renderer in your markdown cells that includes interactivity and inline-evaluation."
   ]
  },
  {
   "cell_type": "markdown",
   "id": "d3c1dba2-889d-4817-8d48-83d45c03a337",
   "metadata": {
    "tags": [],
    "user_expressions": [
     {
      "expression": "3 + 1",
      "result": {
       "data": {
        "text/plain": "4"
       },
       "metadata": {},
       "status": "ok"
      }
     }
    ]
   },
   "source": [
    "This is done through the `` {eval}`3 + 1` `` role, which results in {eval}`3 + 1`. The extension can also access variables in the kernel."
   ]
  },
  {
   "cell_type": "code",
   "execution_count": 2,
   "id": "90dffa46-b084-4b24-a650-e5f5a9aa526e",
   "metadata": {},
   "outputs": [],
   "source": [
    "import micropip\n",
    "await micropip.install(\"ipywidgets\")\n",
    "\n",
    "import numpy as np\n",
    "array = np.arange(5)"
   ]
  },
  {
   "cell_type": "markdown",
   "id": "e8af4aa1-9d91-494e-9a76-4d57a611d9e0",
   "metadata": {
    "tags": [],
    "user_expressions": [
     {
      "expression": "array",
      "result": {
       "data": {
        "text/plain": "array([0, 1, 2, 3, 4])"
       },
       "metadata": {},
       "status": "ok"
      }
     },
     {
      "expression": "array.sum()",
      "result": {
       "data": {
        "text/plain": "np.int64(10)"
       },
       "metadata": {},
       "status": "ok"
      }
     },
     {
      "expression": "max(array)",
      "result": {
       "data": {
        "text/plain": "np.int64(4)"
       },
       "metadata": {},
       "status": "ok"
      }
     }
    ]
   },
   "source": [
    ":::{exercise}\n",
    ":label: inline-arrays\n",
    "\n",
    "Let's consider the following array: {eval}`array`.\n",
    "\n",
    "SUM\n",
    ": We compute the total using `array.sum()`, which is {eval}`array.sum()`\n",
    "\n",
    "MAX\n",
    ": We compute the maximum value using `array.max()`, which is {eval}`max(array)`\n",
    "\n",
    ":::\n",
    "\n",
    "🛠 In [](#inline-arrays) replace each `???` with an `{eval}` role for the correct expression\n",
    "\n",
    ":::{solution} inline-arrays\n",
    ":class: dropdown\n",
    "This is done through using MyST syntax: `` {eval}`array.sum()` `` and `` {eval}`array.max()` ``, respectively.\n",
    ":::"
   ]
  },
  {
   "cell_type": "code",
   "execution_count": 4,
   "id": "5ffba1f7-e455-4dce-a645-38988d97b01b",
   "metadata": {},
   "outputs": [],
   "source": [
    "import ipywidgets as widgets\n",
    "\n",
    "cookiesSlider = widgets.IntSlider(min=0, max=30, step=1, value=10, description=\"Cookies: \")\n",
    "cookiesText = widgets.BoundedIntText(\n",
    "    value=10,\n",
    "    min=0,\n",
    "    max=30,\n",
    "    step=1,\n",
    ")\n",
    "widgetLink = widgets.jslink((cookiesSlider, 'value'), (cookiesText, 'value'))\n",
    "\n",
    "caloriesPerCookie = 50\n",
    "dailyCalories = 2100.\n",
    "\n",
    "calories = widgets.Label(value=f'{cookiesSlider.value * caloriesPerCookie}')\n",
    "def fc(n):\n",
    "    calories.value = f'{n[\"owner\"].value * caloriesPerCookie}'\n",
    "cookiesSlider.observe(fc)\n",
    "\n",
    "\n",
    "percent = widgets.Label(value=f'{cookiesSlider.value * caloriesPerCookie / dailyCalories:.1%}')\n",
    "def fp(n):\n",
    "    percent.value = f'{n[\"owner\"].value * caloriesPerCookie / dailyCalories:.1%}'\n",
    "cookiesSlider.observe(fp)"
   ]
  },
  {
   "cell_type": "markdown",
   "id": "b8ac6e3c-2982-4921-a882-6b4eeaffe936",
   "metadata": {
    "user_expressions": [
     {
      "expression": "cookiesText",
      "result": {
       "data": {
        "application/vnd.jupyter.widget-view+json": {
         "model_id": "5da222ab14a84a0bab7115ca8cac356b",
         "version_major": 2,
         "version_minor": 0
        },
        "text/plain": "BoundedIntText(value=10, max=30)"
       },
       "metadata": {},
       "status": "ok"
      }
     },
     {
      "expression": "calories",
      "result": {
       "data": {
        "application/vnd.jupyter.widget-view+json": {
         "model_id": "728c0e917c0b40569cd62a8a50e76455",
         "version_major": 2,
         "version_minor": 0
        },
        "text/plain": "Label(value='500')"
       },
       "metadata": {},
       "status": "ok"
      }
     },
     {
      "expression": "percent",
      "result": {
       "data": {
        "application/vnd.jupyter.widget-view+json": {
         "model_id": "e94562bcbdba4bd9bdc014adc1bcb133",
         "version_major": 2,
         "version_minor": 0
        },
        "text/plain": "Label(value='23.8%')"
       },
       "metadata": {},
       "status": "ok"
      }
     },
     {
      "expression": "cookiesSlider",
      "result": {
       "data": {
        "application/vnd.jupyter.widget-view+json": {
         "model_id": "7afba74920a941afb8d1291d6bbebc2f",
         "version_major": 2,
         "version_minor": 0
        },
        "text/plain": "IntSlider(value=10, description='Cookies: ', max=30)"
       },
       "metadata": {},
       "status": "ok"
      }
     }
    ]
   },
   "source": [
    ":::{important} Calculate Consuming Cookie Calories 🍪 🧮\n",
    "When you eat {eval}`cookiesText` cookies, you consume {eval}`calories` calories. \\\n",
    "That's {eval}`percent` of your recommended daily calories.\n",
    ":::\n",
    "\n",
    "You can also edit this through a slider if you want: {eval}`cookiesSlider`\n",
    "\n",
    ":::{note} Improvements\n",
    ":class: dropdown\n",
    "There is a lot to improve both for formatting (e.g. format the numbering) and for the verbosity of the above code for linking and calculating the widgets.\n",
    "These are probably going to be a combination of a MyST library for working with simple inline widgets and showing numbers, as well as improvements and tweaks to the inline renderers for the mime bundles.\n",
    "\n",
    "But you can already do things! 🚀\n",
    ":::"
   ]
  },
  {
   "cell_type": "code",
   "execution_count": 5,
   "id": "7a29588f-afb7-4e2b-99fb-132c6ab04372",
   "metadata": {},
   "outputs": [],
   "source": [
    "import numpy as np\n",
    "import matplotlib.pyplot as plt\n",
    "\n",
    "def plotStocks(line_color = 'b'):\n",
    "    # Step 1: Predict the stock market, with surprising accuracy:\n",
    "    data = np.cumsum(np.random.rand(1000)-0.5)\n",
    "    data = data - np.mean(data)\n",
    "\n",
    "    stocks = plt.figure(figsize=(10,2))\n",
    "    ax1 = stocks.add_subplot(111)\n",
    "    ax1.plot(data, line_color)\n",
    "    ax1.axhline(c='grey', alpha=0.5);\n",
    "    plt.axis('off')\n",
    "    plt.tight_layout();\n",
    "    plt.close();\n",
    "\n",
    "    annotated = plt.figure(figsize=(10,2))\n",
    "    ax1 = annotated.add_subplot(111)\n",
    "    plt.axvspan(450, 560, color='red', alpha=0.5)\n",
    "    plt.axvspan(680, 740, color='green', alpha=0.5)\n",
    "    ax1.plot(data, line_color)\n",
    "    ax1.axhline(c='grey', alpha=0.5);\n",
    "    plt.axis('off')\n",
    "    plt.tight_layout();\n",
    "    plt.close();\n",
    "    \n",
    "    return stocks, annotated"
   ]
  },
  {
   "cell_type": "code",
   "execution_count": 6,
   "id": "8a1f028a-ba98-4815-9c39-b22a8f70d665",
   "metadata": {},
   "outputs": [],
   "source": [
    "stocks, annotated = plotStocks('r')"
   ]
  },
  {
   "cell_type": "markdown",
   "id": "60a959ef-e31b-4383-9865-982e574debd3",
   "metadata": {
    "user_expressions": [
     {
      "expression": "stocks",
      "result": {
       "data": {
        "image/png": "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",
        "text/plain": "<Figure size 1000x200 with 1 Axes>"
       },
       "metadata": {},
       "status": "ok"
      }
     },
     {
      "expression": "annotated",
      "result": {
       "data": {
        "image/png": "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",
        "text/plain": "<Figure size 1000x200 with 1 Axes>"
       },
       "metadata": {},
       "status": "ok"
      }
     }
    ]
   },
   "source": [
    "\n",
    "If we look at the following stock price for [Apple](https://en.wikipedia.org/wiki/Apple_Inc.) ({eval}`stocks`) we can see that in 2003, they started selling [computers](https://en.wikipedia.org/wiki/MacBook_Pro), in the red region and their stock went crazy once the investment paid off ({eval}`annotated`).[^note]\n",
    "\n",
    "[^note]: Both the graphs are fake, but pretty cool right!  "
   ]
  },
  {
   "cell_type": "code",
   "execution_count": 7,
   "id": "612c2e45-8096-4fee-89d4-9732d56ec247",
   "metadata": {},
   "outputs": [],
   "source": [
    "from sympy import symbols, expand\n",
    "x, y = symbols('x y')\n",
    "expr = x + 2*y - 1\n",
    "polynomial = x*expr"
   ]
  },
  {
   "cell_type": "markdown",
   "id": "319276f3-c4c6-4b9e-8131-27c9d8e7671d",
   "metadata": {
    "user_expressions": [
     {
      "expression": "polynomial",
      "result": {
       "data": {
        "text/latex": "$\\displaystyle x \\left(x + 2 y - 1\\right)$",
        "text/plain": "x*(x + 2*y - 1)"
       },
       "metadata": {},
       "status": "ok"
      }
     },
     {
      "expression": "expand(polynomial)",
      "result": {
       "data": {
        "text/latex": "$\\displaystyle x^{2} + 2 x y - x$",
        "text/plain": "x**2 + 2*x*y - x"
       },
       "metadata": {},
       "status": "ok"
      }
     }
    ]
   },
   "source": [
    "🛠 Try changing the `expr` above and then re-execute this cell to see the update!\n",
    "\n",
    "When we expand the polynomial {eval}`polynomial`, we get {eval}`expand(polynomial)`."
   ]
  },
  {
   "cell_type": "code",
   "execution_count": 8,
   "id": "600e74dc-6c54-4cb4-91c3-0e5107fcf589",
   "metadata": {},
   "outputs": [],
   "source": [
    "from IPython.display import Image, HTML\n",
    "\n",
    "i = Image(url='https://source.unsplash.com/random/400x50?sunset')"
   ]
  },
  {
   "cell_type": "markdown",
   "id": "edafa8a3-8dcd-4db3-a4cf-90c6aaf461bb",
   "metadata": {
    "user_expressions": [
     {
      "expression": "i",
      "result": {
       "data": {
        "text/html": "<img src=\"https://source.unsplash.com/random/400x50?sunset\"/>",
        "text/plain": "<IPython.core.display.Image object>"
       },
       "metadata": {},
       "status": "ok"
      }
     }
    ]
   },
   "source": [
    "This should be an inline image of a sunset: {eval}`i`"
   ]
  },
  {
   "cell_type": "code",
   "execution_count": 9,
   "id": "463cdcbe-066d-4187-bf4a-d09b4233666f",
   "metadata": {},
   "outputs": [],
   "source": [
    "text_hover = HTML('<span onmouseover=\"this.innerText=\\'💚\\'\" onmouseout=\"this.innerText=\\'🎉\\'\">❤️</span>')"
   ]
  },
  {
   "cell_type": "markdown",
   "id": "dd711f73-94eb-4da4-ba01-2ac822450a2f",
   "metadata": {
    "tags": [],
    "user_expressions": [
     {
      "expression": "text_hover",
      "result": {
       "data": {
        "text/html": "<span onmouseover=\"this.innerText='💚'\" onmouseout=\"this.innerText='🎉'\">❤️</span>",
        "text/plain": "<IPython.core.display.HTML object>"
       },
       "metadata": {},
       "status": "ok"
      }
     }
    ]
   },
   "source": [
    "Try hovering over this element[^trust]: {eval}`text_hover`\n",
    "\n",
    "[^trust]: You may need to set your notebook to trusted to do this!"
   ]
  },
  {
   "cell_type": "code",
   "execution_count": null,
   "id": "fcd9b5dd-eb24-4acc-b922-c11c39b8d1e0",
   "metadata": {},
   "outputs": [],
   "source": []
  }
 ],
 "metadata": {
  "kernelspec": {
   "display_name": "Python 3 (ipykernel)",
   "language": "python",
   "name": "python3"
  },
  "language_info": {
   "codemirror_mode": {
    "name": "ipython",
    "version": 3
   },
   "file_extension": ".py",
   "mimetype": "text/x-python",
   "name": "python",
   "nbconvert_exporter": "python",
   "pygments_lexer": "ipython3",
   "version": "3.12.4"
  }
 },
 "nbformat": 4,
 "nbformat_minor": 5
}
