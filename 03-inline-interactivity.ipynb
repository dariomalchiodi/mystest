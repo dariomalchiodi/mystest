{
 "cells": [
  {
   "cell_type": "markdown",
   "id": "613eaf50-e4f0-4328-b0be-c246fb216577",
   "metadata": {},
   "source": [
    "---\n",
    "title: Inline Interactivity in Jupyter using MyST\n",
    "subtitle: Using inline widgets in JupyterLab markdown cells\n",
    "license: CC-BY-4.0\n",
    "author:\n",
    "  - name: Rowan Cockett\n",
    "    affiliations: Executable Books; Curvenote\n",
    "    orcid: 0000-0002-7859-8394\n",
    "    email: rowan@curvenote.com\n",
    "  - name: Angus Hollands\n",
    "    affiliations: Executable Books\n",
    "  - name: Steve Purves\n",
    "    affiliations: Executable Books; Curvenote\n",
    "date: 2023/02/20\n",
    "---\n",
    "\n",
    "The [JupyterLab MyST extension](https://github.com/executablebooks/jupyterlab-myst) allows you to have MyST renderer in your markdown cells that includes interactivity and inline-evaluation."
   ]
  },
  {
   "cell_type": "markdown",
   "id": "d3c1dba2-889d-4817-8d48-83d45c03a337",
   "metadata": {
    "tags": [],
    "user_expressions": [
     {
      "expression": "3 + 1",
      "result": {
       "data": {
        "text/plain": "4"
       },
       "metadata": {},
       "status": "ok"
      }
     }
    ]
   },
   "source": [
    "This is done through the `` {eval}`3 + 1` `` role, which results in {eval}`3 + 1`. The extension can also access variables in the kernel."
   ]
  },
  {
   "cell_type": "code",
   "execution_count": 1,
   "id": "90dffa46-b084-4b24-a650-e5f5a9aa526e",
   "metadata": {},
   "outputs": [],
   "source": [
    "import numpy as np\n",
    "array = np.arange(5)"
   ]
  },
  {
   "cell_type": "markdown",
   "id": "e8af4aa1-9d91-494e-9a76-4d57a611d9e0",
   "metadata": {
    "tags": [],
    "user_expressions": [
     {
      "expression": "array",
      "result": {
       "data": {
        "text/plain": "array([0, 1, 2, 3, 4])"
       },
       "metadata": {},
       "status": "ok"
      }
     },
     {
      "expression": "array.sum()",
      "result": {
       "data": {
        "text/plain": "np.int64(10)"
       },
       "metadata": {},
       "status": "ok"
      }
     },
     {
      "expression": "max(array)",
      "result": {
       "data": {
        "text/plain": "np.int64(4)"
       },
       "metadata": {},
       "status": "ok"
      }
     }
    ]
   },
   "source": [
    ":::{exercise}\n",
    ":label: inline-arrays\n",
    "\n",
    "Let's consider the following array: {eval}`array`.\n",
    "\n",
    "SUM\n",
    ": We compute the total using `array.sum()`, which is {eval}`array.sum()`\n",
    "\n",
    "MAX\n",
    ": We compute the maximum value using `array.max()`, which is {eval}`max(array)`\n",
    "\n",
    ":::\n",
    "\n",
    "🛠 In [](#inline-arrays) replace each `???` with an `{eval}` role for the correct expression\n",
    "\n",
    ":::{solution} inline-arrays\n",
    ":class: dropdown\n",
    "This is done through using MyST syntax: `` {eval}`array.sum()` `` and `` {eval}`array.max()` ``, respectively.\n",
    ":::"
   ]
  },
  {
   "cell_type": "code",
   "execution_count": 2,
   "id": "5ffba1f7-e455-4dce-a645-38988d97b01b",
   "metadata": {},
   "outputs": [],
   "source": [
    "import ipywidgets as widgets\n",
    "\n",
    "cookiesSlider = widgets.IntSlider(min=0, max=30, step=1, value=10, description=\"Cookies: \")\n",
    "cookiesText = widgets.BoundedIntText(\n",
    "    value=10,\n",
    "    min=0,\n",
    "    max=30,\n",
    "    step=1,\n",
    ")\n",
    "widgetLink = widgets.jslink((cookiesSlider, 'value'), (cookiesText, 'value'))\n",
    "\n",
    "caloriesPerCookie = 50\n",
    "dailyCalories = 2100.\n",
    "\n",
    "calories = widgets.Label(value=f'{cookiesSlider.value * caloriesPerCookie}')\n",
    "def fc(n):\n",
    "    calories.value = f'{n[\"owner\"].value * caloriesPerCookie}'\n",
    "cookiesSlider.observe(fc)\n",
    "\n",
    "\n",
    "percent = widgets.Label(value=f'{cookiesSlider.value * caloriesPerCookie / dailyCalories:.1%}')\n",
    "def fp(n):\n",
    "    percent.value = f'{n[\"owner\"].value * caloriesPerCookie / dailyCalories:.1%}'\n",
    "cookiesSlider.observe(fp)"
   ]
  },
  {
   "cell_type": "markdown",
   "id": "b8ac6e3c-2982-4921-a882-6b4eeaffe936",
   "metadata": {
    "user_expressions": [
     {
      "expression": "cookiesText",
      "result": {
       "data": {
        "application/vnd.jupyter.widget-view+json": {
         "model_id": "d508c6e61c30482187cecb30a1a0e746",
         "version_major": 2,
         "version_minor": 0
        },
        "text/plain": "BoundedIntText(value=10, max=30)"
       },
       "metadata": {},
       "status": "ok"
      }
     },
     {
      "expression": "calories",
      "result": {
       "data": {
        "application/vnd.jupyter.widget-view+json": {
         "model_id": "0127a2a51d2e4e25aa618741ffa4e590",
         "version_major": 2,
         "version_minor": 0
        },
        "text/plain": "Label(value='500')"
       },
       "metadata": {},
       "status": "ok"
      }
     },
     {
      "expression": "percent",
      "result": {
       "data": {
        "application/vnd.jupyter.widget-view+json": {
         "model_id": "f46d586386504a95b32a534c72c021fb",
         "version_major": 2,
         "version_minor": 0
        },
        "text/plain": "Label(value='23.8%')"
       },
       "metadata": {},
       "status": "ok"
      }
     },
     {
      "expression": "cookiesSlider",
      "result": {
       "data": {
        "application/vnd.jupyter.widget-view+json": {
         "model_id": "ed0a12f26b7d40fb87917b4b7ea1e9be",
         "version_major": 2,
         "version_minor": 0
        },
        "text/plain": "IntSlider(value=10, description='Cookies: ', max=30)"
       },
       "metadata": {},
       "status": "ok"
      }
     }
    ]
   },
   "source": [
    ":::{important} Calculate Consuming Cookie Calories 🍪 🧮\n",
    "When you eat {eval}`cookiesText` cookies, you consume {eval}`calories` calories. \\\n",
    "That's {eval}`percent` of your recommended daily calories.\n",
    ":::\n",
    "\n",
    "You can also edit this through a slider if you want: {eval}`cookiesSlider`\n",
    "\n",
    ":::{note} Improvements\n",
    ":class: dropdown\n",
    "There is a lot to improve both for formatting (e.g. format the numbering) and for the verbosity of the above code for linking and calculating the widgets.\n",
    "These are probably going to be a combination of a MyST library for working with simple inline widgets and showing numbers, as well as improvements and tweaks to the inline renderers for the mime bundles.\n",
    "\n",
    "But you can already do things! 🚀\n",
    ":::"
   ]
  },
  {
   "cell_type": "code",
   "execution_count": 3,
   "id": "7a29588f-afb7-4e2b-99fb-132c6ab04372",
   "metadata": {},
   "outputs": [],
   "source": [
    "import numpy as np\n",
    "import matplotlib.pyplot as plt\n",
    "\n",
    "def plotStocks(line_color = 'b'):\n",
    "    # Step 1: Predict the stock market, with surprising accuracy:\n",
    "    data = np.cumsum(np.random.rand(1000)-0.5)\n",
    "    data = data - np.mean(data)\n",
    "\n",
    "    stocks = plt.figure(figsize=(10,2))\n",
    "    ax1 = stocks.add_subplot(111)\n",
    "    ax1.plot(data, line_color)\n",
    "    ax1.axhline(c='grey', alpha=0.5);\n",
    "    plt.axis('off')\n",
    "    plt.tight_layout();\n",
    "    plt.close();\n",
    "\n",
    "    annotated = plt.figure(figsize=(10,2))\n",
    "    ax1 = annotated.add_subplot(111)\n",
    "    plt.axvspan(450, 560, color='red', alpha=0.5)\n",
    "    plt.axvspan(680, 740, color='green', alpha=0.5)\n",
    "    ax1.plot(data, line_color)\n",
    "    ax1.axhline(c='grey', alpha=0.5);\n",
    "    plt.axis('off')\n",
    "    plt.tight_layout();\n",
    "    plt.close();\n",
    "    \n",
    "    return stocks, annotated"
   ]
  },
  {
   "cell_type": "code",
   "execution_count": 4,
   "id": "8a1f028a-ba98-4815-9c39-b22a8f70d665",
   "metadata": {},
   "outputs": [],
   "source": [
    "stocks, annotated = plotStocks('r')"
   ]
  },
  {
   "cell_type": "markdown",
   "id": "60a959ef-e31b-4383-9865-982e574debd3",
   "metadata": {
    "user_expressions": [
     {
      "expression": "stocks",
      "result": {
       "data": {
        "image/png": "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",
        "text/plain": "<Figure size 1000x200 with 1 Axes>"
       },
       "metadata": {},
       "status": "ok"
      }
     },
     {
      "expression": "annotated",
      "result": {
       "data": {
        "image/png": "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",
        "text/plain": "<Figure size 1000x200 with 1 Axes>"
       },
       "metadata": {},
       "status": "ok"
      }
     }
    ]
   },
   "source": [
    "\n",
    "If we look at the following stock price for [Apple](https://en.wikipedia.org/wiki/Apple_Inc.) ({eval}`stocks`) we can see that in 2003, they started selling [computers](https://en.wikipedia.org/wiki/MacBook_Pro), in the red region and their stock went crazy once the investment paid off ({eval}`annotated`).[^note]\n",
    "\n",
    "[^note]: Both the graphs are fake, but pretty cool right!  "
   ]
  },
  {
   "cell_type": "code",
   "execution_count": 7,
   "id": "612c2e45-8096-4fee-89d4-9732d56ec247",
   "metadata": {},
   "outputs": [],
   "source": [
    "from sympy import symbols, expand\n",
    "x, y = symbols('x y')\n",
    "expr = x + 2*y - 1\n",
    "polynomial = x*expr"
   ]
  },
  {
   "cell_type": "markdown",
   "id": "319276f3-c4c6-4b9e-8131-27c9d8e7671d",
   "metadata": {
    "user_expressions": [
     {
      "expression": "polynomial",
      "result": {
       "data": {
        "text/latex": "$\\displaystyle x \\left(x + 2 y - 1\\right)$",
        "text/plain": "x*(x + 2*y - 1)"
       },
       "metadata": {},
       "status": "ok"
      }
     },
     {
      "expression": "expand(polynomial)",
      "result": {
       "data": {
        "text/latex": "$\\displaystyle x^{2} + 2 x y - x$",
        "text/plain": "x**2 + 2*x*y - x"
       },
       "metadata": {},
       "status": "ok"
      }
     }
    ]
   },
   "source": [
    "🛠 Try changing the `expr` above and then re-execute this cell to see the update!\n",
    "\n",
    "When we expand the polynomial {eval}`polynomial`, we get {eval}`expand(polynomial)`."
   ]
  },
  {
   "cell_type": "code",
   "execution_count": 8,
   "id": "600e74dc-6c54-4cb4-91c3-0e5107fcf589",
   "metadata": {},
   "outputs": [],
   "source": [
    "from IPython.display import Image, HTML\n",
    "\n",
    "i = Image(url='https://source.unsplash.com/random/400x50?sunset')"
   ]
  },
  {
   "cell_type": "markdown",
   "id": "edafa8a3-8dcd-4db3-a4cf-90c6aaf461bb",
   "metadata": {
    "user_expressions": [
     {
      "expression": "i",
      "result": {
       "data": {
        "text/html": "<img src=\"https://source.unsplash.com/random/400x50?sunset\"/>",
        "text/plain": "<IPython.core.display.Image object>"
       },
       "metadata": {},
       "status": "ok"
      }
     }
    ]
   },
   "source": [
    "This should be an inline image of a sunset: {eval}`i`"
   ]
  },
  {
   "cell_type": "code",
   "execution_count": 9,
   "id": "463cdcbe-066d-4187-bf4a-d09b4233666f",
   "metadata": {},
   "outputs": [],
   "source": [
    "text_hover = HTML('<span onmouseover=\"this.innerText=\\'💚\\'\" onmouseout=\"this.innerText=\\'🎉\\'\">❤️</span>')"
   ]
  },
  {
   "cell_type": "markdown",
   "id": "dd711f73-94eb-4da4-ba01-2ac822450a2f",
   "metadata": {
    "tags": [],
    "user_expressions": [
     {
      "expression": "text_hover",
      "result": {
       "data": {
        "text/html": "<span onmouseover=\"this.innerText='💚'\" onmouseout=\"this.innerText='🎉'\">❤️</span>",
        "text/plain": "<IPython.core.display.HTML object>"
       },
       "metadata": {},
       "status": "ok"
      }
     }
    ]
   },
   "source": [
    "Try hovering over this element[^trust]: {eval}`text_hover`\n",
    "\n",
    "[^trust]: You may need to set your notebook to trusted to do this!"
   ]
  },
  {
   "cell_type": "code",
   "execution_count": null,
   "id": "fcd9b5dd-eb24-4acc-b922-c11c39b8d1e0",
   "metadata": {},
   "outputs": [],
   "source": []
  }
 ],
 "metadata": {
  "kernelspec": {
   "display_name": "Python 3 (ipykernel)",
   "language": "python",
   "name": "python3"
  },
  "language_info": {
   "codemirror_mode": {
    "name": "ipython",
    "version": 3
   },
   "file_extension": ".py",
   "mimetype": "text/x-python",
   "name": "python",
   "nbconvert_exporter": "python",
   "pygments_lexer": "ipython3",
   "version": "3.12.4"
  }
 },
 "nbformat": 4,
 "nbformat_minor": 5
}
